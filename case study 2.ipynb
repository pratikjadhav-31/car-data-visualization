{
  "metadata": {
    "kernelspec": {
      "name": "python",
      "display_name": "Python (Pyodide)",
      "language": "python"
    },
    "language_info": {
      "codemirror_mode": {
        "name": "python",
        "version": 3
      },
      "file_extension": ".py",
      "mimetype": "text/x-python",
      "name": "python",
      "nbconvert_exporter": "python",
      "pygments_lexer": "ipython3",
      "version": "3.8"
    }
  },
  "nbformat_minor": 5,
  "nbformat": 4,
  "cells": [
    {
      "id": "975ffbcb-1217-424d-a334-5a6fd2130261",
      "cell_type": "code",
      "source": "#Importing essential packages\n#Importing essential packages\nimport numpy as np\nimport pandas as pd\nimport matplotlib.pyplot as plt\n",
      "metadata": {
        "trusted": true
      },
      "outputs": [],
      "execution_count": 3
    },
    {
      "id": "bd83bdab-76e7-4d20-8735-6a93c0aa29ab",
      "cell_type": "code",
      "source": "%pip install seaborn\n",
      "metadata": {
        "trusted": true
      },
      "outputs": [],
      "execution_count": 4
    },
    {
      "id": "a8f3f4cf-3b9a-4382-8210-587d0ce2f2b3",
      "cell_type": "code",
      "source": "import seaborn as sns",
      "metadata": {
        "trusted": true
      },
      "outputs": [],
      "execution_count": 5
    },
    {
      "id": "1728cb5c-8d63-42a1-80f6-209c296a6eb0",
      "cell_type": "code",
      "source": "\ndf = pd.read_csv('car_data.csv')",
      "metadata": {
        "trusted": true
      },
      "outputs": [],
      "execution_count": 6
    },
    {
      "id": "63b24447-0ac2-48f5-adc1-6f4017553c8b",
      "cell_type": "code",
      "source": "df.head()",
      "metadata": {
        "trusted": true
      },
      "outputs": [
        {
          "execution_count": 7,
          "output_type": "execute_result",
          "data": {
            "text/plain": "  Car_Name  Year  Selling_Price  Present_Price  Kms_Driven Fuel_Type  \\\n0     ritz  2014           3.35           5.59       27000    Petrol   \n1      sx4  2013           4.75           9.54       43000    Diesel   \n2     ciaz  2017           7.25           9.85        6900    Petrol   \n3  wagon r  2011           2.85           4.15        5200    Petrol   \n4    swift  2014           4.60           6.87       42450    Diesel   \n\n  Seller_Type Transmission  Owner  \n0      Dealer       Manual      0  \n1      Dealer       Manual      0  \n2      Dealer       Manual      0  \n3      Dealer       Manual      0  \n4      Dealer       Manual      0  ",
            "text/html": "<div>\n<style scoped>\n    .dataframe tbody tr th:only-of-type {\n        vertical-align: middle;\n    }\n\n    .dataframe tbody tr th {\n        vertical-align: top;\n    }\n\n    .dataframe thead th {\n        text-align: right;\n    }\n</style>\n<table border=\"1\" class=\"dataframe\">\n  <thead>\n    <tr style=\"text-align: right;\">\n      <th></th>\n      <th>Car_Name</th>\n      <th>Year</th>\n      <th>Selling_Price</th>\n      <th>Present_Price</th>\n      <th>Kms_Driven</th>\n      <th>Fuel_Type</th>\n      <th>Seller_Type</th>\n      <th>Transmission</th>\n      <th>Owner</th>\n    </tr>\n  </thead>\n  <tbody>\n    <tr>\n      <th>0</th>\n      <td>ritz</td>\n      <td>2014</td>\n      <td>3.35</td>\n      <td>5.59</td>\n      <td>27000</td>\n      <td>Petrol</td>\n      <td>Dealer</td>\n      <td>Manual</td>\n      <td>0</td>\n    </tr>\n    <tr>\n      <th>1</th>\n      <td>sx4</td>\n      <td>2013</td>\n      <td>4.75</td>\n      <td>9.54</td>\n      <td>43000</td>\n      <td>Diesel</td>\n      <td>Dealer</td>\n      <td>Manual</td>\n      <td>0</td>\n    </tr>\n    <tr>\n      <th>2</th>\n      <td>ciaz</td>\n      <td>2017</td>\n      <td>7.25</td>\n      <td>9.85</td>\n      <td>6900</td>\n      <td>Petrol</td>\n      <td>Dealer</td>\n      <td>Manual</td>\n      <td>0</td>\n    </tr>\n    <tr>\n      <th>3</th>\n      <td>wagon r</td>\n      <td>2011</td>\n      <td>2.85</td>\n      <td>4.15</td>\n      <td>5200</td>\n      <td>Petrol</td>\n      <td>Dealer</td>\n      <td>Manual</td>\n      <td>0</td>\n    </tr>\n    <tr>\n      <th>4</th>\n      <td>swift</td>\n      <td>2014</td>\n      <td>4.60</td>\n      <td>6.87</td>\n      <td>42450</td>\n      <td>Diesel</td>\n      <td>Dealer</td>\n      <td>Manual</td>\n      <td>0</td>\n    </tr>\n  </tbody>\n</table>\n</div>"
          },
          "metadata": {}
        }
      ],
      "execution_count": 7
    },
    {
      "id": "3811373d-0b4d-4ee7-88fa-46723d2db626",
      "cell_type": "code",
      "source": "df.info()",
      "metadata": {
        "trusted": true
      },
      "outputs": [
        {
          "name": "stdout",
          "output_type": "stream",
          "text": "<class 'pandas.core.frame.DataFrame'>\nRangeIndex: 301 entries, 0 to 300\nData columns (total 9 columns):\n #   Column         Non-Null Count  Dtype  \n---  ------         --------------  -----  \n 0   Car_Name       301 non-null    object \n 1   Year           301 non-null    int64  \n 2   Selling_Price  301 non-null    float64\n 3   Present_Price  301 non-null    float64\n 4   Kms_Driven     301 non-null    int64  \n 5   Fuel_Type      301 non-null    object \n 6   Seller_Type    301 non-null    object \n 7   Transmission   301 non-null    object \n 8   Owner          301 non-null    int64  \ndtypes: float64(2), int64(3), object(4)\nmemory usage: 16.5+ KB\n"
        }
      ],
      "execution_count": 8
    },
    {
      "id": "f3239fa5-f886-47a2-b5fd-6747ec4aa74c",
      "cell_type": "code",
      "source": "# Create a depreciation column\ndf[\"Depreciation\"] = df[\"Present_Price\"] - df[\"Selling_Price\"]\n\n# Extract brand from Car_Name\ndf[\"Brand\"] = df[\"Car_Name\"].apply(lambda x: x.split()[0])",
      "metadata": {
        "trusted": true
      },
      "outputs": [],
      "execution_count": 9
    },
    {
      "id": "31c94e68-67f3-41a9-bca8-317b666f44de",
      "cell_type": "code",
      "source": "# 1. Count of single-owner vehicles\ndf[df[\"Owner\"] == 0].shape[0]",
      "metadata": {
        "trusted": true
      },
      "outputs": [
        {
          "execution_count": 10,
          "output_type": "execute_result",
          "data": {
            "text/plain": "290"
          },
          "metadata": {}
        }
      ],
      "execution_count": 10
    },
    {
      "id": "18b67353-274c-481d-9691-a7653810e912",
      "cell_type": "code",
      "source": "# 2. Most and least cost depreciated vehicle\ndf.loc[df[\"Depreciation\"].idxmax(), [\"Car_Name\", \"Depreciation\"]]\ndf.loc[df[\"Depreciation\"].idxmin(), [\"Car_Name\", \"Depreciation\"]]\n",
      "metadata": {
        "trusted": true
      },
      "outputs": [
        {
          "execution_count": 13,
          "output_type": "execute_result",
          "data": {
            "text/plain": "Car_Name        Honda Activa 4G\nDepreciation               0.03\nName: 155, dtype: object"
          },
          "metadata": {}
        }
      ],
      "execution_count": 13
    },
    {
      "id": "65967ff5-5e8c-47dc-a0f2-ec23a55dfe38",
      "cell_type": "code",
      "source": "# 3. Brands less affected by depreciation\ndf.groupby(\"Brand\")[\"Depreciation\"].mean().sort_values().head(5)\n",
      "metadata": {
        "trusted": true
      },
      "outputs": [
        {
          "execution_count": 14,
          "output_type": "execute_result",
          "data": {
            "text/plain": "Brand\nUM          0.120000\nActiva      0.183333\nTVS         0.242750\nMahindra    0.250000\nYamaha      0.258750\nName: Depreciation, dtype: float64"
          },
          "metadata": {}
        }
      ],
      "execution_count": 14
    },
    {
      "id": "4636f6d1-bda1-4a28-a826-848268c42056",
      "cell_type": "code",
      "source": "# 4. Factors affecting depreciation (correlation)\ndf[[\"Depreciation\", \"Year\", \"Kms_Driven\", \"Owner\"]].corr()\n",
      "metadata": {
        "trusted": true
      },
      "outputs": [
        {
          "execution_count": 15,
          "output_type": "execute_result",
          "data": {
            "text/plain": "              Depreciation      Year  Kms_Driven     Owner\nDepreciation      1.000000 -0.333746    0.333832  0.107415\nYear             -0.333746  1.000000   -0.524342 -0.182104\nKms_Driven        0.333832 -0.524342    1.000000  0.089216\nOwner             0.107415 -0.182104    0.089216  1.000000",
            "text/html": "<div>\n<style scoped>\n    .dataframe tbody tr th:only-of-type {\n        vertical-align: middle;\n    }\n\n    .dataframe tbody tr th {\n        vertical-align: top;\n    }\n\n    .dataframe thead th {\n        text-align: right;\n    }\n</style>\n<table border=\"1\" class=\"dataframe\">\n  <thead>\n    <tr style=\"text-align: right;\">\n      <th></th>\n      <th>Depreciation</th>\n      <th>Year</th>\n      <th>Kms_Driven</th>\n      <th>Owner</th>\n    </tr>\n  </thead>\n  <tbody>\n    <tr>\n      <th>Depreciation</th>\n      <td>1.000000</td>\n      <td>-0.333746</td>\n      <td>0.333832</td>\n      <td>0.107415</td>\n    </tr>\n    <tr>\n      <th>Year</th>\n      <td>-0.333746</td>\n      <td>1.000000</td>\n      <td>-0.524342</td>\n      <td>-0.182104</td>\n    </tr>\n    <tr>\n      <th>Kms_Driven</th>\n      <td>0.333832</td>\n      <td>-0.524342</td>\n      <td>1.000000</td>\n      <td>0.089216</td>\n    </tr>\n    <tr>\n      <th>Owner</th>\n      <td>0.107415</td>\n      <td>-0.182104</td>\n      <td>0.089216</td>\n      <td>1.000000</td>\n    </tr>\n  </tbody>\n</table>\n</div>"
          },
          "metadata": {}
        }
      ],
      "execution_count": 15
    },
    {
      "id": "ff1f3702-dbb9-49f3-b634-6e94cdd33f1a",
      "cell_type": "code",
      "source": "# 5. Selling Price correlation with Age and Distance\ndf[[\"Selling_Price\", \"Year\", \"Kms_Driven\"]].corr()\n",
      "metadata": {
        "trusted": true
      },
      "outputs": [
        {
          "execution_count": 16,
          "output_type": "execute_result",
          "data": {
            "text/plain": "               Selling_Price      Year  Kms_Driven\nSelling_Price       1.000000  0.236141    0.029187\nYear                0.236141  1.000000   -0.524342\nKms_Driven          0.029187 -0.524342    1.000000",
            "text/html": "<div>\n<style scoped>\n    .dataframe tbody tr th:only-of-type {\n        vertical-align: middle;\n    }\n\n    .dataframe tbody tr th {\n        vertical-align: top;\n    }\n\n    .dataframe thead th {\n        text-align: right;\n    }\n</style>\n<table border=\"1\" class=\"dataframe\">\n  <thead>\n    <tr style=\"text-align: right;\">\n      <th></th>\n      <th>Selling_Price</th>\n      <th>Year</th>\n      <th>Kms_Driven</th>\n    </tr>\n  </thead>\n  <tbody>\n    <tr>\n      <th>Selling_Price</th>\n      <td>1.000000</td>\n      <td>0.236141</td>\n      <td>0.029187</td>\n    </tr>\n    <tr>\n      <th>Year</th>\n      <td>0.236141</td>\n      <td>1.000000</td>\n      <td>-0.524342</td>\n    </tr>\n    <tr>\n      <th>Kms_Driven</th>\n      <td>0.029187</td>\n      <td>-0.524342</td>\n      <td>1.000000</td>\n    </tr>\n  </tbody>\n</table>\n</div>"
          },
          "metadata": {}
        }
      ],
      "execution_count": 16
    },
    {
      "id": "4ed9604a-8ea3-4c9c-be32-e4821cd9671d",
      "cell_type": "code",
      "source": "# 6. Count of vehicles manufactured after 2014\ndf[df[\"Year\"] > 2014].shape[0]\n",
      "metadata": {
        "trusted": true
      },
      "outputs": [
        {
          "execution_count": 17,
          "output_type": "execute_result",
          "data": {
            "text/plain": "147"
          },
          "metadata": {}
        }
      ],
      "execution_count": 17
    },
    {
      "id": "953a7550-bdc7-4aa1-8edd-eb793bd8718e",
      "cell_type": "code",
      "source": "# 7. Filtering two-wheelers\nbike_keywords = [\"bike\", \"scooter\", \"motorcycle\", \"duke\", \"bullet\"]\ntwo_wheelers = df[df[\"Car_Name\"].str.contains(\"|\".join(bike_keywords), case=False, na=False)]\ntwo_wheelers.shape[0]\n ",
      "metadata": {
        "trusted": true
      },
      "outputs": [
        {
          "execution_count": 18,
          "output_type": "execute_result",
          "data": {
            "text/plain": "2"
          },
          "metadata": {}
        }
      ],
      "execution_count": 18
    },
    {
      "id": "e351a90e-edbc-49c4-a095-ef9fe79ec94a",
      "cell_type": "code",
      "source": "# 8. Oldest and newest bike\ntwo_wheelers.nsmallest(1, \"Year\")[[\"Car_Name\", \"Year\"]]\ntwo_wheelers.nlargest(1, \"Year\")[[\"Car_Name\", \"Year\"]]\n",
      "metadata": {
        "trusted": true
      },
      "outputs": [
        {
          "execution_count": 19,
          "output_type": "execute_result",
          "data": {
            "text/plain": "                     Car_Name  Year\n122  Royal Enfield Bullet 350  2016",
            "text/html": "<div>\n<style scoped>\n    .dataframe tbody tr th:only-of-type {\n        vertical-align: middle;\n    }\n\n    .dataframe tbody tr th {\n        vertical-align: top;\n    }\n\n    .dataframe thead th {\n        text-align: right;\n    }\n</style>\n<table border=\"1\" class=\"dataframe\">\n  <thead>\n    <tr style=\"text-align: right;\">\n      <th></th>\n      <th>Car_Name</th>\n      <th>Year</th>\n    </tr>\n  </thead>\n  <tbody>\n    <tr>\n      <th>122</th>\n      <td>Royal Enfield Bullet 350</td>\n      <td>2016</td>\n    </tr>\n  </tbody>\n</table>\n</div>"
          },
          "metadata": {}
        }
      ],
      "execution_count": 19
    },
    {
      "id": "e795f1ad-8bd6-4b12-b3c3-0430dcbd46f4",
      "cell_type": "code",
      "source": "# 9. Manufacturing year range\ndf[\"Year\"].min(), df[\"Year\"].max()\n",
      "metadata": {
        "trusted": true
      },
      "outputs": [
        {
          "execution_count": 20,
          "output_type": "execute_result",
          "data": {
            "text/plain": "(np.int64(2003), np.int64(2018))"
          },
          "metadata": {}
        }
      ],
      "execution_count": 20
    },
    {
      "id": "80aaffa7-8710-4887-9da1-942a6e36a320",
      "cell_type": "code",
      "source": "\n# 10. Lowest and highest selling price\ndf[\"Selling_Price\"].min(), df[\"Selling_Price\"].max()\n",
      "metadata": {
        "trusted": true
      },
      "outputs": [
        {
          "execution_count": 21,
          "output_type": "execute_result",
          "data": {
            "text/plain": "(np.float64(0.1), np.float64(35.0))"
          },
          "metadata": {}
        }
      ],
      "execution_count": 21
    },
    {
      "id": "9ccad446-5126-466f-8eff-cbc2c15c4e86",
      "cell_type": "code",
      "source": "# 11. Total records count\ndf.shape[0]",
      "metadata": {
        "trusted": true
      },
      "outputs": [
        {
          "execution_count": 22,
          "output_type": "execute_result",
          "data": {
            "text/plain": "301"
          },
          "metadata": {}
        }
      ],
      "execution_count": 22
    },
    {
      "id": "fdcb3373-e567-41f2-aa1d-a4b9de5b260a",
      "cell_type": "code",
      "source": "# 12. Checking missing values\ndf.isnull().sum().sum()\n",
      "metadata": {
        "trusted": true
      },
      "outputs": [
        {
          "execution_count": 23,
          "output_type": "execute_result",
          "data": {
            "text/plain": "np.int64(0)"
          },
          "metadata": {}
        }
      ],
      "execution_count": 23
    },
    {
      "id": "0beee5fb-99ec-4126-9a4b-d7483673a328",
      "cell_type": "code",
      "source": "# 13. Count of different vehicles\ndf[\"Car_Name\"].nunique()",
      "metadata": {
        "trusted": true
      },
      "outputs": [
        {
          "execution_count": 24,
          "output_type": "execute_result",
          "data": {
            "text/plain": "98"
          },
          "metadata": {}
        }
      ],
      "execution_count": 24
    },
    {
      "id": "d36ab019-38a8-4603-bf4a-eb48e73e9522",
      "cell_type": "code",
      "source": "# 14. Most sold vehicle\ndf[\"Car_Name\"].value_counts().idxmax()\n",
      "metadata": {
        "trusted": true
      },
      "outputs": [
        {
          "execution_count": 25,
          "output_type": "execute_result",
          "data": {
            "text/plain": "'city'"
          },
          "metadata": {}
        }
      ],
      "execution_count": 25
    },
    {
      "id": "920eb6dd-3032-4b79-9dff-655a621b3dc9",
      "cell_type": "code",
      "source": "# 15. Checking for CNG vehicles\ndf[df[\"Fuel_Type\"] == \"CNG\"].shape[0]\n",
      "metadata": {
        "trusted": true
      },
      "outputs": [
        {
          "execution_count": 26,
          "output_type": "execute_result",
          "data": {
            "text/plain": "2"
          },
          "metadata": {}
        }
      ],
      "execution_count": 26
    },
    {
      "id": "6caacd82-3553-4f8b-a1b7-d23864c8d7f0",
      "cell_type": "code",
      "source": "# 16. Vehicles sold by individuals\ndf[df[\"Seller_Type\"] == \"Individual\"].shape[0]\n",
      "metadata": {
        "trusted": true
      },
      "outputs": [
        {
          "execution_count": 27,
          "output_type": "execute_result",
          "data": {
            "text/plain": "106"
          },
          "metadata": {}
        }
      ],
      "execution_count": 27
    },
    {
      "id": "587ab996-b8eb-457d-95dd-9f03568de2c9",
      "cell_type": "code",
      "source": "# 17. Automatic transmission vehicles count\ndf[df[\"Transmission\"] == \"Automatic\"].shape[0]\n",
      "metadata": {
        "trusted": true
      },
      "outputs": [
        {
          "execution_count": 28,
          "output_type": "execute_result",
          "data": {
            "text/plain": "40"
          },
          "metadata": {}
        }
      ],
      "execution_count": 28
    },
    {
      "id": "8a406c56-4c44-4757-b513-121015218c16",
      "cell_type": "code",
      "source": "# 18. Most sold bike\ntwo_wheelers[\"Car_Name\"].value_counts().idxmax() if not two_wheelers.empty else None",
      "metadata": {
        "trusted": true
      },
      "outputs": [
        {
          "execution_count": 29,
          "output_type": "execute_result",
          "data": {
            "text/plain": "'KTM 390 Duke '"
          },
          "metadata": {}
        }
      ],
      "execution_count": 29
    },
    {
      "id": "3f82f097-a20b-4067-9978-a81ccc8dbaca",
      "cell_type": "code",
      "source": "# 19. Identifying two-wheeler deals that exceeded expectations\nbike_keywords = [\"bike\", \"scooter\", \"motorcycle\", \"duke\", \"bullet\"]\ntwo_wheelers = df[df[\"Car_Name\"].str.contains(\"|\".join(bike_keywords), case=False, na=False)]\nhigh_selling_bikes = two_wheelers[two_wheelers[\"Selling_Price\"] > two_wheelers[\"Present_Price\"] * 0.8]  # Checking if selling price is unusually high\nhigh_selling_bikes",
      "metadata": {
        "trusted": true
      },
      "outputs": [
        {
          "execution_count": 37,
          "output_type": "execute_result",
          "data": {
            "text/plain": "                     Car_Name  Year  Selling_Price  Present_Price  Kms_Driven  \\\n122  Royal Enfield Bullet 350  2016           1.05           1.17        6000   \n\n    Fuel_Type Seller_Type Transmission  Owner  Depreciation  Brand  \n122    Petrol  Individual       Manual      0          0.12  Royal  ",
            "text/html": "<div>\n<style scoped>\n    .dataframe tbody tr th:only-of-type {\n        vertical-align: middle;\n    }\n\n    .dataframe tbody tr th {\n        vertical-align: top;\n    }\n\n    .dataframe thead th {\n        text-align: right;\n    }\n</style>\n<table border=\"1\" class=\"dataframe\">\n  <thead>\n    <tr style=\"text-align: right;\">\n      <th></th>\n      <th>Car_Name</th>\n      <th>Year</th>\n      <th>Selling_Price</th>\n      <th>Present_Price</th>\n      <th>Kms_Driven</th>\n      <th>Fuel_Type</th>\n      <th>Seller_Type</th>\n      <th>Transmission</th>\n      <th>Owner</th>\n      <th>Depreciation</th>\n      <th>Brand</th>\n    </tr>\n  </thead>\n  <tbody>\n    <tr>\n      <th>122</th>\n      <td>Royal Enfield Bullet 350</td>\n      <td>2016</td>\n      <td>1.05</td>\n      <td>1.17</td>\n      <td>6000</td>\n      <td>Petrol</td>\n      <td>Individual</td>\n      <td>Manual</td>\n      <td>0</td>\n      <td>0.12</td>\n      <td>Royal</td>\n    </tr>\n  </tbody>\n</table>\n</div>"
          },
          "metadata": {}
        }
      ],
      "execution_count": 37
    },
    {
      "id": "d219e3b8-8326-4b4d-b09f-3ad07bcb7acc",
      "cell_type": "code",
      "source": "# 20. Possible reasons for high-priced two-wheeler deals\n# Factors like low mileage, recent model, brand value, or modifications might contribute.\nhigh_selling_bikes.describe()\n",
      "metadata": {
        "trusted": true
      },
      "outputs": [
        {
          "execution_count": 38,
          "output_type": "execute_result",
          "data": {
            "text/plain": "         Year  Selling_Price  Present_Price  Kms_Driven  Owner  Depreciation\ncount     1.0           1.00           1.00         1.0    1.0          1.00\nmean   2016.0           1.05           1.17      6000.0    0.0          0.12\nstd       NaN            NaN            NaN         NaN    NaN           NaN\nmin    2016.0           1.05           1.17      6000.0    0.0          0.12\n25%    2016.0           1.05           1.17      6000.0    0.0          0.12\n50%    2016.0           1.05           1.17      6000.0    0.0          0.12\n75%    2016.0           1.05           1.17      6000.0    0.0          0.12\nmax    2016.0           1.05           1.17      6000.0    0.0          0.12",
            "text/html": "<div>\n<style scoped>\n    .dataframe tbody tr th:only-of-type {\n        vertical-align: middle;\n    }\n\n    .dataframe tbody tr th {\n        vertical-align: top;\n    }\n\n    .dataframe thead th {\n        text-align: right;\n    }\n</style>\n<table border=\"1\" class=\"dataframe\">\n  <thead>\n    <tr style=\"text-align: right;\">\n      <th></th>\n      <th>Year</th>\n      <th>Selling_Price</th>\n      <th>Present_Price</th>\n      <th>Kms_Driven</th>\n      <th>Owner</th>\n      <th>Depreciation</th>\n    </tr>\n  </thead>\n  <tbody>\n    <tr>\n      <th>count</th>\n      <td>1.0</td>\n      <td>1.00</td>\n      <td>1.00</td>\n      <td>1.0</td>\n      <td>1.0</td>\n      <td>1.00</td>\n    </tr>\n    <tr>\n      <th>mean</th>\n      <td>2016.0</td>\n      <td>1.05</td>\n      <td>1.17</td>\n      <td>6000.0</td>\n      <td>0.0</td>\n      <td>0.12</td>\n    </tr>\n    <tr>\n      <th>std</th>\n      <td>NaN</td>\n      <td>NaN</td>\n      <td>NaN</td>\n      <td>NaN</td>\n      <td>NaN</td>\n      <td>NaN</td>\n    </tr>\n    <tr>\n      <th>min</th>\n      <td>2016.0</td>\n      <td>1.05</td>\n      <td>1.17</td>\n      <td>6000.0</td>\n      <td>0.0</td>\n      <td>0.12</td>\n    </tr>\n    <tr>\n      <th>25%</th>\n      <td>2016.0</td>\n      <td>1.05</td>\n      <td>1.17</td>\n      <td>6000.0</td>\n      <td>0.0</td>\n      <td>0.12</td>\n    </tr>\n    <tr>\n      <th>50%</th>\n      <td>2016.0</td>\n      <td>1.05</td>\n      <td>1.17</td>\n      <td>6000.0</td>\n      <td>0.0</td>\n      <td>0.12</td>\n    </tr>\n    <tr>\n      <th>75%</th>\n      <td>2016.0</td>\n      <td>1.05</td>\n      <td>1.17</td>\n      <td>6000.0</td>\n      <td>0.0</td>\n      <td>0.12</td>\n    </tr>\n    <tr>\n      <th>max</th>\n      <td>2016.0</td>\n      <td>1.05</td>\n      <td>1.17</td>\n      <td>6000.0</td>\n      <td>0.0</td>\n      <td>0.12</td>\n    </tr>\n  </tbody>\n</table>\n</div>"
          },
          "metadata": {}
        }
      ],
      "execution_count": 38
    },
    {
      "id": "50a749f6-78b8-4677-951c-f6fdc518299d",
      "cell_type": "code",
      "source": "# 21. Filtering only cars\ncars = df[~df[\"Car_Name\"].str.contains(\"|\".join(bike_keywords), case=False, na=False)]\ncars.shape[0]\n",
      "metadata": {
        "trusted": true
      },
      "outputs": [
        {
          "execution_count": 39,
          "output_type": "execute_result",
          "data": {
            "text/plain": "299"
          },
          "metadata": {}
        }
      ],
      "execution_count": 39
    },
    {
      "id": "6e315bf0-cdd9-48dd-b8bb-fcd3f209b1cd",
      "cell_type": "code",
      "source": "# 22. Oldest car sold\ncars.nsmallest(1, \"Year\")[[\"Car_Name\", \"Year\"]]",
      "metadata": {
        "trusted": true
      },
      "outputs": [
        {
          "execution_count": 40,
          "output_type": "execute_result",
          "data": {
            "text/plain": "   Car_Name  Year\n37      800  2003",
            "text/html": "<div>\n<style scoped>\n    .dataframe tbody tr th:only-of-type {\n        vertical-align: middle;\n    }\n\n    .dataframe tbody tr th {\n        vertical-align: top;\n    }\n\n    .dataframe thead th {\n        text-align: right;\n    }\n</style>\n<table border=\"1\" class=\"dataframe\">\n  <thead>\n    <tr style=\"text-align: right;\">\n      <th></th>\n      <th>Car_Name</th>\n      <th>Year</th>\n    </tr>\n  </thead>\n  <tbody>\n    <tr>\n      <th>37</th>\n      <td>800</td>\n      <td>2003</td>\n    </tr>\n  </tbody>\n</table>\n</div>"
          },
          "metadata": {}
        }
      ],
      "execution_count": 40
    },
    {
      "id": "4744251a-98b5-4d59-a283-8c52b64898f0",
      "cell_type": "code",
      "source": "# 23. Newest car sold\ncars.nlargest(1, \"Year\")[[\"Car_Name\", \"Year\"]]\n",
      "metadata": {
        "trusted": true
      },
      "outputs": [
        {
          "execution_count": 41,
          "output_type": "execute_result",
          "data": {
            "text/plain": "        Car_Name  Year\n5  vitara brezza  2018",
            "text/html": "<div>\n<style scoped>\n    .dataframe tbody tr th:only-of-type {\n        vertical-align: middle;\n    }\n\n    .dataframe tbody tr th {\n        vertical-align: top;\n    }\n\n    .dataframe thead th {\n        text-align: right;\n    }\n</style>\n<table border=\"1\" class=\"dataframe\">\n  <thead>\n    <tr style=\"text-align: right;\">\n      <th></th>\n      <th>Car_Name</th>\n      <th>Year</th>\n    </tr>\n  </thead>\n  <tbody>\n    <tr>\n      <th>5</th>\n      <td>vitara brezza</td>\n      <td>2018</td>\n    </tr>\n  </tbody>\n</table>\n</div>"
          },
          "metadata": {}
        }
      ],
      "execution_count": 41
    },
    {
      "id": "bf03719a-644d-4549-85ba-a70a8e85074b",
      "cell_type": "code",
      "source": "# 24. Identifying car deals that exceeded expectations\nhigh_selling_cars = cars[cars[\"Selling_Price\"] > cars[\"Present_Price\"] * 0.8]\nhigh_selling_cars\n",
      "metadata": {
        "trusted": true
      },
      "outputs": [
        {
          "execution_count": 42,
          "output_type": "execute_result",
          "data": {
            "text/plain": "          Car_Name  Year  Selling_Price  Present_Price  Kms_Driven Fuel_Type  \\\n5    vitara brezza  2018           9.25           9.83        2071    Diesel   \n6             ciaz  2015           6.75           8.12       18796    Petrol   \n8             ciaz  2016           8.75           8.89       20273    Diesel   \n9             ciaz  2015           7.45           8.92       42367    Diesel   \n21           ignis  2017           4.90           5.71        2400    Petrol   \n..             ...   ...            ...            ...         ...       ...   \n285           jazz  2016           7.40           8.50       15059    Petrol   \n291           brio  2015           5.40           6.10       31427    Petrol   \n296           city  2016           9.50          11.60       33988    Diesel   \n299           city  2017          11.50          12.50        9000    Diesel   \n300           brio  2016           5.30           5.90        5464    Petrol   \n\n    Seller_Type Transmission  Owner  Depreciation   Brand  \n5        Dealer       Manual      0          0.58  vitara  \n6        Dealer       Manual      0          1.37    ciaz  \n8        Dealer       Manual      0          0.14    ciaz  \n9        Dealer       Manual      0          1.47    ciaz  \n21       Dealer       Manual      0          0.81   ignis  \n..          ...          ...    ...           ...     ...  \n285      Dealer    Automatic      0          1.10    jazz  \n291      Dealer       Manual      0          0.70    brio  \n296      Dealer       Manual      0          2.10    city  \n299      Dealer       Manual      0          1.00    city  \n300      Dealer       Manual      0          0.60    brio  \n\n[68 rows x 11 columns]",
            "text/html": "<div>\n<style scoped>\n    .dataframe tbody tr th:only-of-type {\n        vertical-align: middle;\n    }\n\n    .dataframe tbody tr th {\n        vertical-align: top;\n    }\n\n    .dataframe thead th {\n        text-align: right;\n    }\n</style>\n<table border=\"1\" class=\"dataframe\">\n  <thead>\n    <tr style=\"text-align: right;\">\n      <th></th>\n      <th>Car_Name</th>\n      <th>Year</th>\n      <th>Selling_Price</th>\n      <th>Present_Price</th>\n      <th>Kms_Driven</th>\n      <th>Fuel_Type</th>\n      <th>Seller_Type</th>\n      <th>Transmission</th>\n      <th>Owner</th>\n      <th>Depreciation</th>\n      <th>Brand</th>\n    </tr>\n  </thead>\n  <tbody>\n    <tr>\n      <th>5</th>\n      <td>vitara brezza</td>\n      <td>2018</td>\n      <td>9.25</td>\n      <td>9.83</td>\n      <td>2071</td>\n      <td>Diesel</td>\n      <td>Dealer</td>\n      <td>Manual</td>\n      <td>0</td>\n      <td>0.58</td>\n      <td>vitara</td>\n    </tr>\n    <tr>\n      <th>6</th>\n      <td>ciaz</td>\n      <td>2015</td>\n      <td>6.75</td>\n      <td>8.12</td>\n      <td>18796</td>\n      <td>Petrol</td>\n      <td>Dealer</td>\n      <td>Manual</td>\n      <td>0</td>\n      <td>1.37</td>\n      <td>ciaz</td>\n    </tr>\n    <tr>\n      <th>8</th>\n      <td>ciaz</td>\n      <td>2016</td>\n      <td>8.75</td>\n      <td>8.89</td>\n      <td>20273</td>\n      <td>Diesel</td>\n      <td>Dealer</td>\n      <td>Manual</td>\n      <td>0</td>\n      <td>0.14</td>\n      <td>ciaz</td>\n    </tr>\n    <tr>\n      <th>9</th>\n      <td>ciaz</td>\n      <td>2015</td>\n      <td>7.45</td>\n      <td>8.92</td>\n      <td>42367</td>\n      <td>Diesel</td>\n      <td>Dealer</td>\n      <td>Manual</td>\n      <td>0</td>\n      <td>1.47</td>\n      <td>ciaz</td>\n    </tr>\n    <tr>\n      <th>21</th>\n      <td>ignis</td>\n      <td>2017</td>\n      <td>4.90</td>\n      <td>5.71</td>\n      <td>2400</td>\n      <td>Petrol</td>\n      <td>Dealer</td>\n      <td>Manual</td>\n      <td>0</td>\n      <td>0.81</td>\n      <td>ignis</td>\n    </tr>\n    <tr>\n      <th>...</th>\n      <td>...</td>\n      <td>...</td>\n      <td>...</td>\n      <td>...</td>\n      <td>...</td>\n      <td>...</td>\n      <td>...</td>\n      <td>...</td>\n      <td>...</td>\n      <td>...</td>\n      <td>...</td>\n    </tr>\n    <tr>\n      <th>285</th>\n      <td>jazz</td>\n      <td>2016</td>\n      <td>7.40</td>\n      <td>8.50</td>\n      <td>15059</td>\n      <td>Petrol</td>\n      <td>Dealer</td>\n      <td>Automatic</td>\n      <td>0</td>\n      <td>1.10</td>\n      <td>jazz</td>\n    </tr>\n    <tr>\n      <th>291</th>\n      <td>brio</td>\n      <td>2015</td>\n      <td>5.40</td>\n      <td>6.10</td>\n      <td>31427</td>\n      <td>Petrol</td>\n      <td>Dealer</td>\n      <td>Manual</td>\n      <td>0</td>\n      <td>0.70</td>\n      <td>brio</td>\n    </tr>\n    <tr>\n      <th>296</th>\n      <td>city</td>\n      <td>2016</td>\n      <td>9.50</td>\n      <td>11.60</td>\n      <td>33988</td>\n      <td>Diesel</td>\n      <td>Dealer</td>\n      <td>Manual</td>\n      <td>0</td>\n      <td>2.10</td>\n      <td>city</td>\n    </tr>\n    <tr>\n      <th>299</th>\n      <td>city</td>\n      <td>2017</td>\n      <td>11.50</td>\n      <td>12.50</td>\n      <td>9000</td>\n      <td>Diesel</td>\n      <td>Dealer</td>\n      <td>Manual</td>\n      <td>0</td>\n      <td>1.00</td>\n      <td>city</td>\n    </tr>\n    <tr>\n      <th>300</th>\n      <td>brio</td>\n      <td>2016</td>\n      <td>5.30</td>\n      <td>5.90</td>\n      <td>5464</td>\n      <td>Petrol</td>\n      <td>Dealer</td>\n      <td>Manual</td>\n      <td>0</td>\n      <td>0.60</td>\n      <td>brio</td>\n    </tr>\n  </tbody>\n</table>\n<p>68 rows × 11 columns</p>\n</div>"
          },
          "metadata": {}
        }
      ],
      "execution_count": 42
    },
    {
      "id": "bcc2c2f4-00e5-4a39-bac5-6ca1a939e9b0",
      "cell_type": "code",
      "source": "# 25. Possible reasons for high-priced car deals\nhigh_selling_cars.describe()",
      "metadata": {
        "trusted": true
      },
      "outputs": [
        {
          "execution_count": 43,
          "output_type": "execute_result",
          "data": {
            "text/plain": "              Year  Selling_Price  Present_Price    Kms_Driven      Owner  \\\ncount    68.000000      68.000000      68.000000     68.000000  68.000000   \nmean   2016.132353       6.326471       7.113485  16200.588235   0.014706   \nstd       1.035265       6.381173       7.158804  13968.411927   0.121268   \nmin    2013.000000       0.450000       0.510000    500.000000   0.000000   \n25%    2016.000000       1.012500       1.182500   5000.000000   0.000000   \n50%    2016.000000       5.250000       5.755000  14732.500000   0.000000   \n75%    2017.000000       8.837500       9.400000  21511.500000   0.000000   \nmax    2018.000000      33.000000      36.230000  68000.000000   1.000000   \n\n       Depreciation  \ncount     68.000000  \nmean       0.787015  \nstd        0.942281  \nmin        0.030000  \n25%        0.127500  \n50%        0.450000  \n75%        1.100000  \nmax        4.640000  ",
            "text/html": "<div>\n<style scoped>\n    .dataframe tbody tr th:only-of-type {\n        vertical-align: middle;\n    }\n\n    .dataframe tbody tr th {\n        vertical-align: top;\n    }\n\n    .dataframe thead th {\n        text-align: right;\n    }\n</style>\n<table border=\"1\" class=\"dataframe\">\n  <thead>\n    <tr style=\"text-align: right;\">\n      <th></th>\n      <th>Year</th>\n      <th>Selling_Price</th>\n      <th>Present_Price</th>\n      <th>Kms_Driven</th>\n      <th>Owner</th>\n      <th>Depreciation</th>\n    </tr>\n  </thead>\n  <tbody>\n    <tr>\n      <th>count</th>\n      <td>68.000000</td>\n      <td>68.000000</td>\n      <td>68.000000</td>\n      <td>68.000000</td>\n      <td>68.000000</td>\n      <td>68.000000</td>\n    </tr>\n    <tr>\n      <th>mean</th>\n      <td>2016.132353</td>\n      <td>6.326471</td>\n      <td>7.113485</td>\n      <td>16200.588235</td>\n      <td>0.014706</td>\n      <td>0.787015</td>\n    </tr>\n    <tr>\n      <th>std</th>\n      <td>1.035265</td>\n      <td>6.381173</td>\n      <td>7.158804</td>\n      <td>13968.411927</td>\n      <td>0.121268</td>\n      <td>0.942281</td>\n    </tr>\n    <tr>\n      <th>min</th>\n      <td>2013.000000</td>\n      <td>0.450000</td>\n      <td>0.510000</td>\n      <td>500.000000</td>\n      <td>0.000000</td>\n      <td>0.030000</td>\n    </tr>\n    <tr>\n      <th>25%</th>\n      <td>2016.000000</td>\n      <td>1.012500</td>\n      <td>1.182500</td>\n      <td>5000.000000</td>\n      <td>0.000000</td>\n      <td>0.127500</td>\n    </tr>\n    <tr>\n      <th>50%</th>\n      <td>2016.000000</td>\n      <td>5.250000</td>\n      <td>5.755000</td>\n      <td>14732.500000</td>\n      <td>0.000000</td>\n      <td>0.450000</td>\n    </tr>\n    <tr>\n      <th>75%</th>\n      <td>2017.000000</td>\n      <td>8.837500</td>\n      <td>9.400000</td>\n      <td>21511.500000</td>\n      <td>0.000000</td>\n      <td>1.100000</td>\n    </tr>\n    <tr>\n      <th>max</th>\n      <td>2018.000000</td>\n      <td>33.000000</td>\n      <td>36.230000</td>\n      <td>68000.000000</td>\n      <td>1.000000</td>\n      <td>4.640000</td>\n    </tr>\n  </tbody>\n</table>\n</div>"
          },
          "metadata": {}
        }
      ],
      "execution_count": 43
    },
    {
      "id": "b0b281d5-8d87-43c8-b2af-f7e7c39564f1",
      "cell_type": "code",
      "source": "df.isnull().sum()",
      "metadata": {
        "trusted": true
      },
      "outputs": [
        {
          "execution_count": 45,
          "output_type": "execute_result",
          "data": {
            "text/plain": "Car_Name         0\nYear             0\nSelling_Price    0\nPresent_Price    0\nKms_Driven       0\nFuel_Type        0\nSeller_Type      0\nTransmission     0\nOwner            0\nDepreciation     0\nBrand            0\ndtype: int64"
          },
          "metadata": {}
        }
      ],
      "execution_count": 45
    },
    {
      "id": "1643a433-80f3-4f6b-b9af-c73cd53cd1e5",
      "cell_type": "code",
      "source": "",
      "metadata": {
        "trusted": true
      },
      "outputs": [],
      "execution_count": null
    }
  ]
}